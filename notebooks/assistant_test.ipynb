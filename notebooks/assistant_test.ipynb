{
 "cells": [
  {
   "cell_type": "markdown",
   "metadata": {},
   "source": [
    "### LangGraph Assistant Configuration Demo via the SDK\n",
    "This code demonstrates how to:\n",
    "1. Create a new configuration of an assistant\n",
    "2. Use (invoke) that assistant with a silly question\n",
    "3. Update the assistant's configuration\n",
    "\n",
    "#### Setup"
   ]
  },
  {
   "cell_type": "code",
   "execution_count": 2,
   "metadata": {},
   "outputs": [],
   "source": [
    "from langgraph_sdk import get_client\n",
    "from dotenv import load_dotenv\n",
    "import os\n",
    "\n",
    "load_dotenv()\n",
    "\n",
    "# ---- SETUP ----\n",
    "# Replace with your deployed LangGraph API URL and API key\n",
    "DEPLOYMENT_URL = os.getenv(\"DEPLOYMENT_URL\")  # e.g. \"http://localhost:2024\" or your cloud URL\n",
    "API_KEY = os.getenv(\"API_KEY\")  # If using deployed graph\n",
    "GRAPH_ID = \"agent\"  # Name of the graph, normally set in your langgraph.json file.\n",
    "\n"
   ]
  },
  {
   "cell_type": "markdown",
   "metadata": {},
   "source": [
    "#### Connect to our Deployed Agent and Create a New Assistants\n"
   ]
  },
  {
   "cell_type": "code",
   "execution_count": null,
   "metadata": {},
   "outputs": [
    {
     "name": "stdout",
     "output_type": "stream",
     "text": [
      "Creating a new assistant configuration...\n"
     ]
    },
    {
     "ename": "CancelledError",
     "evalue": "",
     "output_type": "error",
     "traceback": [
      "\u001b[31m---------------------------------------------------------------------------\u001b[39m",
      "\u001b[31mCancelledError\u001b[39m                            Traceback (most recent call last)",
      "\u001b[36mCell\u001b[39m\u001b[36m \u001b[39m\u001b[32mIn[1]\u001b[39m\u001b[32m, line 20\u001b[39m\n\u001b[32m     17\u001b[39m \u001b[38;5;66;03m# 2. Create a new assistant configuration\u001b[39;00m\n\u001b[32m     18\u001b[39m \u001b[38;5;28mprint\u001b[39m(\u001b[33m\"\u001b[39m\u001b[33mCreating a new assistant configuration...\u001b[39m\u001b[33m\"\u001b[39m)\n\u001b[32m---> \u001b[39m\u001b[32m20\u001b[39m assistant = \u001b[38;5;28;01mawait\u001b[39;00m client.assistants.create(\n\u001b[32m     21\u001b[39m     graph_id = GRAPH_ID,\n\u001b[32m     22\u001b[39m     config={\n\u001b[32m     23\u001b[39m         \u001b[33m\"\u001b[39m\u001b[33mconfigurable\u001b[39m\u001b[33m\"\u001b[39m: {\n\u001b[32m     24\u001b[39m             \u001b[33m\"\u001b[39m\u001b[33msystem_prompt\u001b[39m\u001b[33m\"\u001b[39m: \u001b[33m\"\u001b[39m\u001b[33mYou are a helpful AI assistant that can help with research.\u001b[39m\u001b[33m\"\u001b[39m,\n\u001b[32m     25\u001b[39m             \u001b[33m\"\u001b[39m\u001b[33mmodel\u001b[39m\u001b[33m\"\u001b[39m: \u001b[33m\"\u001b[39m\u001b[33manthropic/claude-3-7-sonnet-latest\u001b[39m\u001b[33m\"\u001b[39m,\n\u001b[32m     26\u001b[39m             \u001b[33m\"\u001b[39m\u001b[33mselected_tools\u001b[39m\u001b[33m\"\u001b[39m: [\u001b[33m\"\u001b[39m\u001b[33mget_todays_date\u001b[39m\u001b[33m\"\u001b[39m, \u001b[33m\"\u001b[39m\u001b[33madvanced_research\u001b[39m\u001b[33m\"\u001b[39m]\n\u001b[32m     27\u001b[39m         }\n\u001b[32m     28\u001b[39m     },\n\u001b[32m     29\u001b[39m     name=\u001b[33m\"\u001b[39m\u001b[33mDemo Assistant\u001b[39m\u001b[33m\"\u001b[39m\n\u001b[32m     30\u001b[39m )\n\u001b[32m     31\u001b[39m \u001b[38;5;28mprint\u001b[39m(\u001b[33m\"\u001b[39m\u001b[33mAssistant created:\u001b[39m\u001b[33m\"\u001b[39m, assistant)\n",
      "\u001b[36mFile \u001b[39m\u001b[32m~/Desktop/videos/assistants-demo/.venv/lib/python3.11/site-packages/langgraph_sdk/client.py:763\u001b[39m, in \u001b[36mAssistantsClient.create\u001b[39m\u001b[34m(self, graph_id, config, metadata, assistant_id, if_exists, name, headers, description)\u001b[39m\n\u001b[32m    761\u001b[39m \u001b[38;5;28;01mif\u001b[39;00m description:\n\u001b[32m    762\u001b[39m     payload[\u001b[33m\"\u001b[39m\u001b[33mdescription\u001b[39m\u001b[33m\"\u001b[39m] = description\n\u001b[32m--> \u001b[39m\u001b[32m763\u001b[39m \u001b[38;5;28;01mreturn\u001b[39;00m \u001b[38;5;28;01mawait\u001b[39;00m \u001b[38;5;28mself\u001b[39m.http.post(\u001b[33m\"\u001b[39m\u001b[33m/assistants\u001b[39m\u001b[33m\"\u001b[39m, json=payload, headers=headers)\n",
      "\u001b[36mFile \u001b[39m\u001b[32m~/Desktop/videos/assistants-demo/.venv/lib/python3.11/site-packages/langgraph_sdk/client.py:286\u001b[39m, in \u001b[36mHttpClient.post\u001b[39m\u001b[34m(self, path, json, headers, on_response)\u001b[39m\n\u001b[32m    284\u001b[39m \u001b[38;5;28;01mif\u001b[39;00m headers:\n\u001b[32m    285\u001b[39m     request_headers.update(headers)\n\u001b[32m--> \u001b[39m\u001b[32m286\u001b[39m r = \u001b[38;5;28;01mawait\u001b[39;00m \u001b[38;5;28mself\u001b[39m.client.post(path, headers=request_headers, content=content)\n\u001b[32m    287\u001b[39m \u001b[38;5;28;01mif\u001b[39;00m on_response:\n\u001b[32m    288\u001b[39m     on_response(r)\n",
      "\u001b[36mFile \u001b[39m\u001b[32m~/Desktop/videos/assistants-demo/.venv/lib/python3.11/site-packages/httpx/_client.py:1859\u001b[39m, in \u001b[36mAsyncClient.post\u001b[39m\u001b[34m(self, url, content, data, files, json, params, headers, cookies, auth, follow_redirects, timeout, extensions)\u001b[39m\n\u001b[32m   1838\u001b[39m \u001b[38;5;28;01masync\u001b[39;00m \u001b[38;5;28;01mdef\u001b[39;00m\u001b[38;5;250m \u001b[39m\u001b[34mpost\u001b[39m(\n\u001b[32m   1839\u001b[39m     \u001b[38;5;28mself\u001b[39m,\n\u001b[32m   1840\u001b[39m     url: URL | \u001b[38;5;28mstr\u001b[39m,\n\u001b[32m   (...)\u001b[39m\u001b[32m   1852\u001b[39m     extensions: RequestExtensions | \u001b[38;5;28;01mNone\u001b[39;00m = \u001b[38;5;28;01mNone\u001b[39;00m,\n\u001b[32m   1853\u001b[39m ) -> Response:\n\u001b[32m   1854\u001b[39m \u001b[38;5;250m    \u001b[39m\u001b[33;03m\"\"\"\u001b[39;00m\n\u001b[32m   1855\u001b[39m \u001b[33;03m    Send a `POST` request.\u001b[39;00m\n\u001b[32m   1856\u001b[39m \n\u001b[32m   1857\u001b[39m \u001b[33;03m    **Parameters**: See `httpx.request`.\u001b[39;00m\n\u001b[32m   1858\u001b[39m \u001b[33;03m    \"\"\"\u001b[39;00m\n\u001b[32m-> \u001b[39m\u001b[32m1859\u001b[39m     \u001b[38;5;28;01mreturn\u001b[39;00m \u001b[38;5;28;01mawait\u001b[39;00m \u001b[38;5;28mself\u001b[39m.request(\n\u001b[32m   1860\u001b[39m         \u001b[33m\"\u001b[39m\u001b[33mPOST\u001b[39m\u001b[33m\"\u001b[39m,\n\u001b[32m   1861\u001b[39m         url,\n\u001b[32m   1862\u001b[39m         content=content,\n\u001b[32m   1863\u001b[39m         data=data,\n\u001b[32m   1864\u001b[39m         files=files,\n\u001b[32m   1865\u001b[39m         json=json,\n\u001b[32m   1866\u001b[39m         params=params,\n\u001b[32m   1867\u001b[39m         headers=headers,\n\u001b[32m   1868\u001b[39m         cookies=cookies,\n\u001b[32m   1869\u001b[39m         auth=auth,\n\u001b[32m   1870\u001b[39m         follow_redirects=follow_redirects,\n\u001b[32m   1871\u001b[39m         timeout=timeout,\n\u001b[32m   1872\u001b[39m         extensions=extensions,\n\u001b[32m   1873\u001b[39m     )\n",
      "\u001b[36mFile \u001b[39m\u001b[32m~/Desktop/videos/assistants-demo/.venv/lib/python3.11/site-packages/httpx/_client.py:1540\u001b[39m, in \u001b[36mAsyncClient.request\u001b[39m\u001b[34m(self, method, url, content, data, files, json, params, headers, cookies, auth, follow_redirects, timeout, extensions)\u001b[39m\n\u001b[32m   1525\u001b[39m     warnings.warn(message, \u001b[38;5;167;01mDeprecationWarning\u001b[39;00m, stacklevel=\u001b[32m2\u001b[39m)\n\u001b[32m   1527\u001b[39m request = \u001b[38;5;28mself\u001b[39m.build_request(\n\u001b[32m   1528\u001b[39m     method=method,\n\u001b[32m   1529\u001b[39m     url=url,\n\u001b[32m   (...)\u001b[39m\u001b[32m   1538\u001b[39m     extensions=extensions,\n\u001b[32m   1539\u001b[39m )\n\u001b[32m-> \u001b[39m\u001b[32m1540\u001b[39m \u001b[38;5;28;01mreturn\u001b[39;00m \u001b[38;5;28;01mawait\u001b[39;00m \u001b[38;5;28mself\u001b[39m.send(request, auth=auth, follow_redirects=follow_redirects)\n",
      "\u001b[36mFile \u001b[39m\u001b[32m~/Desktop/videos/assistants-demo/.venv/lib/python3.11/site-packages/httpx/_client.py:1629\u001b[39m, in \u001b[36mAsyncClient.send\u001b[39m\u001b[34m(self, request, stream, auth, follow_redirects)\u001b[39m\n\u001b[32m   1625\u001b[39m \u001b[38;5;28mself\u001b[39m._set_timeout(request)\n\u001b[32m   1627\u001b[39m auth = \u001b[38;5;28mself\u001b[39m._build_request_auth(request, auth)\n\u001b[32m-> \u001b[39m\u001b[32m1629\u001b[39m response = \u001b[38;5;28;01mawait\u001b[39;00m \u001b[38;5;28mself\u001b[39m._send_handling_auth(\n\u001b[32m   1630\u001b[39m     request,\n\u001b[32m   1631\u001b[39m     auth=auth,\n\u001b[32m   1632\u001b[39m     follow_redirects=follow_redirects,\n\u001b[32m   1633\u001b[39m     history=[],\n\u001b[32m   1634\u001b[39m )\n\u001b[32m   1635\u001b[39m \u001b[38;5;28;01mtry\u001b[39;00m:\n\u001b[32m   1636\u001b[39m     \u001b[38;5;28;01mif\u001b[39;00m \u001b[38;5;129;01mnot\u001b[39;00m stream:\n",
      "\u001b[36mFile \u001b[39m\u001b[32m~/Desktop/videos/assistants-demo/.venv/lib/python3.11/site-packages/httpx/_client.py:1657\u001b[39m, in \u001b[36mAsyncClient._send_handling_auth\u001b[39m\u001b[34m(self, request, auth, follow_redirects, history)\u001b[39m\n\u001b[32m   1654\u001b[39m request = \u001b[38;5;28;01mawait\u001b[39;00m auth_flow.\u001b[34m__anext__\u001b[39m()\n\u001b[32m   1656\u001b[39m \u001b[38;5;28;01mwhile\u001b[39;00m \u001b[38;5;28;01mTrue\u001b[39;00m:\n\u001b[32m-> \u001b[39m\u001b[32m1657\u001b[39m     response = \u001b[38;5;28;01mawait\u001b[39;00m \u001b[38;5;28mself\u001b[39m._send_handling_redirects(\n\u001b[32m   1658\u001b[39m         request,\n\u001b[32m   1659\u001b[39m         follow_redirects=follow_redirects,\n\u001b[32m   1660\u001b[39m         history=history,\n\u001b[32m   1661\u001b[39m     )\n\u001b[32m   1662\u001b[39m     \u001b[38;5;28;01mtry\u001b[39;00m:\n\u001b[32m   1663\u001b[39m         \u001b[38;5;28;01mtry\u001b[39;00m:\n",
      "\u001b[36mFile \u001b[39m\u001b[32m~/Desktop/videos/assistants-demo/.venv/lib/python3.11/site-packages/httpx/_client.py:1694\u001b[39m, in \u001b[36mAsyncClient._send_handling_redirects\u001b[39m\u001b[34m(self, request, follow_redirects, history)\u001b[39m\n\u001b[32m   1691\u001b[39m \u001b[38;5;28;01mfor\u001b[39;00m hook \u001b[38;5;129;01min\u001b[39;00m \u001b[38;5;28mself\u001b[39m._event_hooks[\u001b[33m\"\u001b[39m\u001b[33mrequest\u001b[39m\u001b[33m\"\u001b[39m]:\n\u001b[32m   1692\u001b[39m     \u001b[38;5;28;01mawait\u001b[39;00m hook(request)\n\u001b[32m-> \u001b[39m\u001b[32m1694\u001b[39m response = \u001b[38;5;28;01mawait\u001b[39;00m \u001b[38;5;28mself\u001b[39m._send_single_request(request)\n\u001b[32m   1695\u001b[39m \u001b[38;5;28;01mtry\u001b[39;00m:\n\u001b[32m   1696\u001b[39m     \u001b[38;5;28;01mfor\u001b[39;00m hook \u001b[38;5;129;01min\u001b[39;00m \u001b[38;5;28mself\u001b[39m._event_hooks[\u001b[33m\"\u001b[39m\u001b[33mresponse\u001b[39m\u001b[33m\"\u001b[39m]:\n",
      "\u001b[36mFile \u001b[39m\u001b[32m~/Desktop/videos/assistants-demo/.venv/lib/python3.11/site-packages/httpx/_client.py:1730\u001b[39m, in \u001b[36mAsyncClient._send_single_request\u001b[39m\u001b[34m(self, request)\u001b[39m\n\u001b[32m   1725\u001b[39m     \u001b[38;5;28;01mraise\u001b[39;00m \u001b[38;5;167;01mRuntimeError\u001b[39;00m(\n\u001b[32m   1726\u001b[39m         \u001b[33m\"\u001b[39m\u001b[33mAttempted to send an sync request with an AsyncClient instance.\u001b[39m\u001b[33m\"\u001b[39m\n\u001b[32m   1727\u001b[39m     )\n\u001b[32m   1729\u001b[39m \u001b[38;5;28;01mwith\u001b[39;00m request_context(request=request):\n\u001b[32m-> \u001b[39m\u001b[32m1730\u001b[39m     response = \u001b[38;5;28;01mawait\u001b[39;00m transport.handle_async_request(request)\n\u001b[32m   1732\u001b[39m \u001b[38;5;28;01massert\u001b[39;00m \u001b[38;5;28misinstance\u001b[39m(response.stream, AsyncByteStream)\n\u001b[32m   1733\u001b[39m response.request = request\n",
      "\u001b[36mFile \u001b[39m\u001b[32m~/Desktop/videos/assistants-demo/.venv/lib/python3.11/site-packages/httpx/_transports/default.py:394\u001b[39m, in \u001b[36mAsyncHTTPTransport.handle_async_request\u001b[39m\u001b[34m(self, request)\u001b[39m\n\u001b[32m    381\u001b[39m req = httpcore.Request(\n\u001b[32m    382\u001b[39m     method=request.method,\n\u001b[32m    383\u001b[39m     url=httpcore.URL(\n\u001b[32m   (...)\u001b[39m\u001b[32m    391\u001b[39m     extensions=request.extensions,\n\u001b[32m    392\u001b[39m )\n\u001b[32m    393\u001b[39m \u001b[38;5;28;01mwith\u001b[39;00m map_httpcore_exceptions():\n\u001b[32m--> \u001b[39m\u001b[32m394\u001b[39m     resp = \u001b[38;5;28;01mawait\u001b[39;00m \u001b[38;5;28mself\u001b[39m._pool.handle_async_request(req)\n\u001b[32m    396\u001b[39m \u001b[38;5;28;01massert\u001b[39;00m \u001b[38;5;28misinstance\u001b[39m(resp.stream, typing.AsyncIterable)\n\u001b[32m    398\u001b[39m \u001b[38;5;28;01mreturn\u001b[39;00m Response(\n\u001b[32m    399\u001b[39m     status_code=resp.status,\n\u001b[32m    400\u001b[39m     headers=resp.headers,\n\u001b[32m    401\u001b[39m     stream=AsyncResponseStream(resp.stream),\n\u001b[32m    402\u001b[39m     extensions=resp.extensions,\n\u001b[32m    403\u001b[39m )\n",
      "\u001b[36mFile \u001b[39m\u001b[32m~/Desktop/videos/assistants-demo/.venv/lib/python3.11/site-packages/httpcore/_async/connection_pool.py:256\u001b[39m, in \u001b[36mAsyncConnectionPool.handle_async_request\u001b[39m\u001b[34m(self, request)\u001b[39m\n\u001b[32m    253\u001b[39m         closing = \u001b[38;5;28mself\u001b[39m._assign_requests_to_connections()\n\u001b[32m    255\u001b[39m     \u001b[38;5;28;01mawait\u001b[39;00m \u001b[38;5;28mself\u001b[39m._close_connections(closing)\n\u001b[32m--> \u001b[39m\u001b[32m256\u001b[39m     \u001b[38;5;28;01mraise\u001b[39;00m exc \u001b[38;5;28;01mfrom\u001b[39;00m\u001b[38;5;250m \u001b[39m\u001b[38;5;28;01mNone\u001b[39;00m\n\u001b[32m    258\u001b[39m \u001b[38;5;66;03m# Return the response. Note that in this case we still have to manage\u001b[39;00m\n\u001b[32m    259\u001b[39m \u001b[38;5;66;03m# the point at which the response is closed.\u001b[39;00m\n\u001b[32m    260\u001b[39m \u001b[38;5;28;01massert\u001b[39;00m \u001b[38;5;28misinstance\u001b[39m(response.stream, typing.AsyncIterable)\n",
      "\u001b[36mFile \u001b[39m\u001b[32m~/Desktop/videos/assistants-demo/.venv/lib/python3.11/site-packages/httpcore/_async/connection_pool.py:236\u001b[39m, in \u001b[36mAsyncConnectionPool.handle_async_request\u001b[39m\u001b[34m(self, request)\u001b[39m\n\u001b[32m    232\u001b[39m connection = \u001b[38;5;28;01mawait\u001b[39;00m pool_request.wait_for_connection(timeout=timeout)\n\u001b[32m    234\u001b[39m \u001b[38;5;28;01mtry\u001b[39;00m:\n\u001b[32m    235\u001b[39m     \u001b[38;5;66;03m# Send the request on the assigned connection.\u001b[39;00m\n\u001b[32m--> \u001b[39m\u001b[32m236\u001b[39m     response = \u001b[38;5;28;01mawait\u001b[39;00m connection.handle_async_request(\n\u001b[32m    237\u001b[39m         pool_request.request\n\u001b[32m    238\u001b[39m     )\n\u001b[32m    239\u001b[39m \u001b[38;5;28;01mexcept\u001b[39;00m ConnectionNotAvailable:\n\u001b[32m    240\u001b[39m     \u001b[38;5;66;03m# In some cases a connection may initially be available to\u001b[39;00m\n\u001b[32m    241\u001b[39m     \u001b[38;5;66;03m# handle a request, but then become unavailable.\u001b[39;00m\n\u001b[32m    242\u001b[39m     \u001b[38;5;66;03m#\u001b[39;00m\n\u001b[32m    243\u001b[39m     \u001b[38;5;66;03m# In this case we clear the connection and try again.\u001b[39;00m\n\u001b[32m    244\u001b[39m     pool_request.clear_connection()\n",
      "\u001b[36mFile \u001b[39m\u001b[32m~/Desktop/videos/assistants-demo/.venv/lib/python3.11/site-packages/httpcore/_async/connection.py:101\u001b[39m, in \u001b[36mAsyncHTTPConnection.handle_async_request\u001b[39m\u001b[34m(self, request)\u001b[39m\n\u001b[32m     99\u001b[39m \u001b[38;5;28;01mexcept\u001b[39;00m \u001b[38;5;167;01mBaseException\u001b[39;00m \u001b[38;5;28;01mas\u001b[39;00m exc:\n\u001b[32m    100\u001b[39m     \u001b[38;5;28mself\u001b[39m._connect_failed = \u001b[38;5;28;01mTrue\u001b[39;00m\n\u001b[32m--> \u001b[39m\u001b[32m101\u001b[39m     \u001b[38;5;28;01mraise\u001b[39;00m exc\n\u001b[32m    103\u001b[39m \u001b[38;5;28;01mreturn\u001b[39;00m \u001b[38;5;28;01mawait\u001b[39;00m \u001b[38;5;28mself\u001b[39m._connection.handle_async_request(request)\n",
      "\u001b[36mFile \u001b[39m\u001b[32m~/Desktop/videos/assistants-demo/.venv/lib/python3.11/site-packages/httpcore/_async/connection.py:78\u001b[39m, in \u001b[36mAsyncHTTPConnection.handle_async_request\u001b[39m\u001b[34m(self, request)\u001b[39m\n\u001b[32m     76\u001b[39m \u001b[38;5;28;01masync\u001b[39;00m \u001b[38;5;28;01mwith\u001b[39;00m \u001b[38;5;28mself\u001b[39m._request_lock:\n\u001b[32m     77\u001b[39m     \u001b[38;5;28;01mif\u001b[39;00m \u001b[38;5;28mself\u001b[39m._connection \u001b[38;5;129;01mis\u001b[39;00m \u001b[38;5;28;01mNone\u001b[39;00m:\n\u001b[32m---> \u001b[39m\u001b[32m78\u001b[39m         stream = \u001b[38;5;28;01mawait\u001b[39;00m \u001b[38;5;28mself\u001b[39m._connect(request)\n\u001b[32m     80\u001b[39m         ssl_object = stream.get_extra_info(\u001b[33m\"\u001b[39m\u001b[33mssl_object\u001b[39m\u001b[33m\"\u001b[39m)\n\u001b[32m     81\u001b[39m         http2_negotiated = (\n\u001b[32m     82\u001b[39m             ssl_object \u001b[38;5;129;01mis\u001b[39;00m \u001b[38;5;129;01mnot\u001b[39;00m \u001b[38;5;28;01mNone\u001b[39;00m\n\u001b[32m     83\u001b[39m             \u001b[38;5;129;01mand\u001b[39;00m ssl_object.selected_alpn_protocol() == \u001b[33m\"\u001b[39m\u001b[33mh2\u001b[39m\u001b[33m\"\u001b[39m\n\u001b[32m     84\u001b[39m         )\n",
      "\u001b[36mFile \u001b[39m\u001b[32m~/Desktop/videos/assistants-demo/.venv/lib/python3.11/site-packages/httpcore/_async/connection.py:165\u001b[39m, in \u001b[36mAsyncHTTPConnection._connect\u001b[39m\u001b[34m(self, request)\u001b[39m\n\u001b[32m    163\u001b[39m delay = \u001b[38;5;28mnext\u001b[39m(delays)\n\u001b[32m    164\u001b[39m \u001b[38;5;28;01masync\u001b[39;00m \u001b[38;5;28;01mwith\u001b[39;00m Trace(\u001b[33m\"\u001b[39m\u001b[33mretry\u001b[39m\u001b[33m\"\u001b[39m, logger, request, kwargs) \u001b[38;5;28;01mas\u001b[39;00m trace:\n\u001b[32m--> \u001b[39m\u001b[32m165\u001b[39m     \u001b[38;5;28;01mawait\u001b[39;00m \u001b[38;5;28mself\u001b[39m._network_backend.sleep(delay)\n",
      "\u001b[36mFile \u001b[39m\u001b[32m~/.local/share/uv/python/cpython-3.11.12-macos-aarch64-none/lib/python3.11/asyncio/tasks.py:649\u001b[39m, in \u001b[36msleep\u001b[39m\u001b[34m(delay, result)\u001b[39m\n\u001b[32m    645\u001b[39m h = loop.call_later(delay,\n\u001b[32m    646\u001b[39m                     futures._set_result_unless_cancelled,\n\u001b[32m    647\u001b[39m                     future, result)\n\u001b[32m    648\u001b[39m \u001b[38;5;28;01mtry\u001b[39;00m:\n\u001b[32m--> \u001b[39m\u001b[32m649\u001b[39m     \u001b[38;5;28;01mreturn\u001b[39;00m \u001b[38;5;28;01mawait\u001b[39;00m future\n\u001b[32m    650\u001b[39m \u001b[38;5;28;01mfinally\u001b[39;00m:\n\u001b[32m    651\u001b[39m     h.cancel()\n",
      "\u001b[31mCancelledError\u001b[39m: "
     ]
    }
   ],
   "source": [
    "# 1. Connect to the LangGraph server\n",
    "client = get_client(url=DEPLOYMENT_URL, api_key=API_KEY)\n",
    "\n",
    "# 2. Create a new assistant configuration\n",
    "print(\"Creating a new assistant configuration...\")\n",
    "\n",
    "assistant = await client.assistants.create(\n",
    "    graph_id = GRAPH_ID,\n",
    "    config={\n",
    "        \"configurable\": {\n",
    "            \"system_prompt\": \"You are a helpful AI assistant that can help with research.\",\n",
    "            \"model\": \"anthropic/claude-3-7-sonnet-latest\",\n",
    "            \"selected_tools\": [\"get_todays_date\", \"advanced_research\"]\n",
    "        }\n",
    "    },\n",
    "    name=\"Demo Assistant\"\n",
    ")\n",
    "print(\"Assistant created:\", assistant)"
   ]
  },
  {
   "cell_type": "code",
   "execution_count": 20,
   "metadata": {},
   "outputs": [
    {
     "name": "stdout",
     "output_type": "stream",
     "text": [
      "Thread created: {'thread_id': 'df4a5e12-4c99-4072-af98-08f74dfb4012', 'created_at': '2025-05-21T14:37:34.407635+00:00', 'updated_at': '2025-05-21T14:37:34.407642+00:00', 'metadata': {}, 'status': 'idle', 'config': {}, 'values': None}\n",
      "Invoking the assistant with a question...\n",
      "Event: metadata\n",
      "{'run_id': '1f036512-24b8-634a-a6fd-951686a52bfa', 'attempt': 1}\n",
      "\n",
      "\n",
      "\n",
      "==================================\u001b[1m Ai Message \u001b[0m==================================\n",
      "\n",
      "[{'text': \"I'd be happy to research the latest news in the art world for you. Let me use the advanced research tool to gather comprehensive information about recent developments, exhibitions, auctions, and trends in the art world.\", 'type': 'text'}, {'id': 'toolu_01LPUbVAKPpSdHeajcwRGTYN', 'input': {'query': 'latest news in the art world 2024 recent developments exhibitions auctions trends'}, 'name': 'advanced_research_tool', 'type': 'tool_use'}]\n",
      "Event: updates\n",
      "{'tools': {'messages': [{'content': '[{\"title\": \"Art Market Update: Analyzing Current Trends for Fall 2024\", \"url\": \"https://pbigaem.fs.ml.com/articles/art-market-fall-update.html\", \"content\": \"This trend peaked with the record-breaking sale of a Surrealist masterpiece by British Mexican artist Leonora Carrington for $28.5 million this past May. In the same month, Christie’s auctioned the collection of prominent Cuban American collector Rosa de la Cruz, totaling over $34 million and setting records for Cuban artists Ana Mendieta and Félix González-Torres, whose sculpture Untitled (America #3) sold to the Pola Museum in Japan for $13.6 million. This purchase underscores a broader [...] This downward trend is most noticeable for Emerging Art, a category comprising new works created by younger, early-career artists. Emerging Art boomed during the pandemic as young entrants to collecting scrambled to procure “wet paint” work. But the upper hand has since flipped. Sotheby’s “The Now” sale, an auction created during this period to showcase newly canonized artists, regularly saw record-breaking bidding wars in 2022. In the two years since, sale totals at “The Now” have fallen by [...] Through her vibrant story quilts, Ringgold highlights the experiences and struggles of Black women, celebrating their strength, resilience and cultural heritage. Her innovative use of quilting and storytelling revolutionized the art world by bridging the gap between fine art and craft traditions.\\\\n\\\\nThis unique work is now featured in our Art in Our Communities© exhibition “Vision & Spirit: Black Artists in the Bank of America Collection.”\\\\n\\\\nBank of America in the art world\", \"score\": 0.86954874}, {\"title\": \"5 Defining Events and Trends that Shaped the Art Market in 2024\", \"url\": \"https://maddoxgallery.com/news/399-5-art-market-2024-trends/\", \"content\": \"Pop Art reaffirmed its status as a cornerstone of the art market; 2024 was bolstered by strong auction results, major exhibitions, and its enduring appeal across generations. Andy Warhol’s Flowers series achieved notable sales, with Flowers (1964) fetching £28 million at Christie’s New York, while Roy Lichtenstein’s 17 works sold in the New York November sales week amassed $39.1 million, surpassing their high estimate. Institutional efforts, such as Lichtenstein’s centennial exhibition at [...] Conclusion\\\\n\\\\nThe developments of 2024 underscore the art world\\'s ability to adapt, innovate, and thrive amidst changing cultural and economic landscapes. With affordability and inclusivity shaping art market trends and technology and unlocking new possibilities, 2024 marks a year of progress and potential. Maddox remains integral to this journey, driving a future where creativity knows no bounds.\\\\n\\\\nREAD MORE\\\\n\\\\nThe Contemporary Art Market this Autumn [...] Artificial intelligence continued to transform the 2024 art market, enhancing efficiency, engagement, and innovation. Art Basel\\'s AI-powered app, updated for its Miami fair, showcasing personalized features like tailored recommendations and artwork scanning for detailed artist and gallery information, bridging knowledge gaps and unlocking new commercial opportunities. Auction houses such as Christie’s utilised AI to accelerate cataloguing and market analysis, turning labour-intensive tasks into\", \"score\": 0.83290404}, {\"title\": \"The Future of Art: Trends, Challenges, and Opportunities in 2024\", \"url\": \"https://art.art/blog/the-future-of-art-trends-challenges-and-opportunities-in-2024\", \"content\": \"Inclusivity and representation remain critical issues in 2024. There is growing momentum to spotlight underrepresented voices, such as Indigenous and LGBTQ+ artists. As Thomas Stauffer, a Zurich-based art advisor, notes, these groups are gaining greater recognition as curators, galleries, and institutions respond to a long-overdue push for diversity in the art world. This shift is evident in high-profile events like the Venice Biennale, where Indigenous artists are being prominently featured [...] One of the most significant shifts in the art world is the growing focus on sustainability. Large-scale exhibitions, which traditionally rely on international shipping, crating, and energy-intensive displays, are being reevaluated to minimize their environmental impact. Experts like Schad are advocating for a local-first approach, emphasizing that more sustainable methods will be essential for the future of curatorial practices. This trend mirrors broader global conversations around [...] The art world in 2024 is poised on the cusp of transformation, driven by technological advancements, socio-political changes, and shifting economic dynamics. As art institutions, artists, and collectors navigate this evolving landscape, there are several key trends, challenges, and opportunities that define the future of art. From the rising influence of artificial intelligence to sustainability and market volatility, here’s what art professionals are saying about what’s next for the art\", \"score\": 0.82220376}, {\"title\": \"Seven critical trends that reshaped the global art market in 2024\", \"url\": \"https://www.artbasel.com/stories/seven-critical-trends-that-reshaped-the-art-basel-and-ubs-global-art-market-report-2025?lang=en\", \"content\": \"6. Private sales buck the trend\\\\n\\\\nWhile public-auction sales declined by 25%, private sales through auction houses increased by 14% in 2024. This shift mirrors historical patterns where, during periods of market uncertainty, private transactions often outperform public sales as sellers opt for more discretion and control over pricing. The movement toward private channels suggests continuing strong demand, just expressed through different transaction methods. [...] This reverses the pattern of recent years, with older sectors of the fine art market outperforming Contemporary art. Dealers noted that higher prices were concentrated on more established artists, while newer Contemporary artists continued to sell well but at lower price points, suggesting a flight to perceived safety among collectors, as well as a reduction of availability of high-value works at auction.\\\\n\\\\nLooking Ahead [...] In a notable reversal of recent trends, smaller galleries showed remarkable resilience compared with their larger counterparts. Dealers with turnover below $250,000 experienced the largest increase in sales at 17% – a significant turnaround for this segment, which had previously experienced the weakest recovery post-pandemic, and an unusual occurrence in periods of overall market downturn.\", \"score\": 0.8131201}, {\"title\": \"Art Industry Trends 2024 | Artsy\", \"url\": \"https://www.artsy.net/article/artsy-editorial-art-industry-trends-2024\", \"content\": \"This data is commensurate with current interest in artists from the ultra-contemporary cohort. The rise in prominence of such artists has been one of the key themes from recent years in the art world, with a slew of blockbuster gallery representation announcements, headline-grabbing auction results, and museum shows for younger generations of artists becoming increasingly commonplace. Ultra-contemporary artists also dominated the list of most in-demand and trending artists on Artsy we published [...] Based on Artsy survey data.\\\\n\\\\nJoint gallery representation has been the basis for much recent art world discussion, due in large part to a growing number of collaboration initiatives between larger and smaller galleries. Hauser & Wirth, for instance, last year announced a “collective impact” approach to sharing representation of artists, premised on combining resources with smaller galleries to uplift their artists.\", \"score\": 0.7927375}, {\"title\": \"2024: The Art World\\'s Year in Review - Art News\", \"url\": \"https://www.artnews.com/p/2024-year-in-review/\", \"content\": \"The Year in New York: The Downtown Gallery Scene Was in Flux Throughout 2024\\\\n\\\\nNew York art galleries navigated major shifts in 2024, from Tribeca’s allure to the struggles of downtown spaces in Chinatown and the Lower East Side.\\\\n\\\\nYEAR END 2024\\\\n\\\\nThe Most Valuable Artworks Sold At Auction in 2024 Is a Stark Drop From Recent Years\\\\n\\\\nIn 2024, the art auction market showed signs of recovery but fell well short of the highs reached in 2022, or even the lower totals from last year.\\\\n\\\\nNewswire [...] In 2024, the chickens came home to roost, so to speak, for the art world. After a series of ruptures and scandals last year, 2024 was a year of restructuring, “correction,” and redress. The art market suffered its worst performance in years amid geopolitical strife, uncertainty over the US presidential election, and high interest rates. Layoffs swept through the industry, from blue-chip galleries to auction houses, and economic challenges hit small and mid-size galleries hard, with many\", \"score\": 0.79080546}, {\"title\": \"Eight Trends In The 2024 Global Art Market - Forbes\", \"url\": \"https://www.forbes.com/councils/forbesbusinesscouncil/2024/05/16/eight-trends-in-the-2024-global-art-market/\", \"content\": \"The changing tides of the global art market have been laid bare in the UBS Art Market Report 2024 by Arts Economics. According to the report, globally, art sales have slowed, save for China where they have increased by 9% to a staggering $12.2 billion. Online sales increased worldwide too, but the highest-priced art deals still tend to happen offline. [...] According to the report, the U.S. remains the largest art market, accounting for 42% of global art market sales, even with an overall reduction in sales value of 10%. The difference can likely be accounted for by a reduction in higher-priced artworks sold at the very top of the market. This is in juxtaposition to the records broken in 2022 like Christie’s $1.6 billion auction of Paul Allen’s collection. [...] The outlook for the global art market in 2024 is a tale of two halves. Political and economic volatility means that the large U.S. and British markets may face further headwinds in 2024, while China will likely continue to deliver outsized growth in sales.\\\\n\\\\nYet, I have hope and continue to see the art sector as a place of extraordinary creativity and reinvention. Away from the year-on-year headlines, I believe that the long-term trendline in the art market is a positive one.\", \"score\": 0.78866494}, {\"title\": \"Spring 2025 Art Market Update: Key Trends and Analysis\", \"url\": \"https://www.pbig.ml.com/articles/art-market-spring-update.html\", \"content\": \"Buoyed by a $1 billion investment from Abu Dhabi-based sovereign wealth fund ADQ, Sothebyâ\\x80\\x99s continues to pursue a bold growth strategy. In 2024, the auction house opened a new Paris headquarters and hosted Saudi Arabiaâ\\x80\\x99s first ever international art and luxury sale in early 2025.Â¹â\\x81°Â\\xa0In addition, the house began ramping up its marketing of high-end collectibles, including a historic Stradivarius violin, a copy of the U.S. Declaration of Independence, and exhibition-ready mounted dinosaur [...] A recalibration of supply and demand. 2024 saw supply constraints at the top end of the art market. RenÃ© Magritteâ\\x80\\x99s magnificent Lâ\\x80\\x99empire des lumiÃ¨res (1954), which sold at Christieâ\\x80\\x99s for $121 million, was the only nine-figure lot to come to auction in 2024. Compare this to two nine-figure lots in 2023 and six in 2022. So much of what could come to market falls victim to a vicious cycle during downturns: key sellers perceive that conditions arenâ\\x80\\x99t ideal, other discretionary sellers [...] 2024 sales slip across all major art categories\\\\n\\\\nYoung contemporary and Old Masters saw the biggest drop-off in 2024 (over 45%), followed by impressionist and modern (29% and 32%, respectively). Post-war and established contemporary, while more resilient, still fell by over 20%. Can auction houses continue to rely on sales of fine art exclusively to drive revenue?\\\\n\\\\nSource: ArtTactic, as of February 13, 2025.\", \"score\": 0.7724109}]', 'additional_kwargs': {}, 'response_metadata': {}, 'type': 'tool', 'name': 'advanced_research_tool', 'id': '9caced01-815f-406c-8153-98ffdcc627aa', 'tool_call_id': 'toolu_01LPUbVAKPpSdHeajcwRGTYN', 'artifact': None, 'status': 'success'}]}}\n",
      "\n",
      "\n",
      "\n",
      "==================================\u001b[1m Ai Message \u001b[0m==================================\n",
      "\n",
      "Based on my research, here are the latest developments in the art world:\n",
      "\n",
      "# Latest Art World News and Trends in 2024\n",
      "\n",
      "## Art Market Dynamics\n",
      "- The global art market has experienced some contractions in 2024, with auction sales declining by 25% overall, though private sales through auction houses increased by 14%\n",
      "- The US remains the largest art market (42% of global sales) despite a 10% reduction in sales value\n",
      "- China has shown strong growth with a 9% increase in art sales, reaching $12.2 billion\n",
      "- Notable auction highlight: René Magritte's \"L'empire des lumières\" (1954) sold for $121 million at Christie's\n",
      "\n",
      "## Record-Breaking Sales\n",
      "- A Surrealist masterpiece by British-Mexican artist Leonora Carrington sold for a record $28.5 million in May\n",
      "- Christie's auctioned the Rosa de la Cruz collection, totaling over $34 million\n",
      "- Records were set for Cuban artists, including Félix González-Torres, whose \"Untitled (America #3)\" sold to Japan's Pola Museum for $13.6 million\n",
      "- Andy Warhol's \"Flowers\" (1964) fetched £28 million at Christie's New York\n",
      "\n",
      "## Emerging Trends\n",
      "1. **Gallery Representation Changes**: Increased collaborations between larger and smaller galleries, with initiatives like Hauser & Wirth's \"collective impact\" approach to sharing artist representation\n",
      "\n",
      "2. **Market Segment Shifts**: \n",
      "   - Smaller galleries (turnover below $250,000) showed unexpected resilience with a 17% increase in sales\n",
      "   - Emerging Art (works by younger, early-career artists) has seen a downward trend compared to its pandemic boom\n",
      "\n",
      "3. **Focus on Inclusivity**: Growing momentum to spotlight underrepresented voices, including Indigenous and LGBTQ+ artists, with greater recognition at major events like the Venice Biennale\n",
      "\n",
      "4. **Sustainability Concerns**: Large-scale exhibitions are being reevaluated to minimize environmental impact, with a growing emphasis on local-first approaches\n",
      "\n",
      "5. **Technology Integration**: \n",
      "   - AI is transforming the art market, enhancing efficiency and engagement\n",
      "   - Art Basel's AI-powered app at its Miami fair offered personalized recommendations and artwork scanning\n",
      "   - Auction houses like Christie's are using AI to accelerate cataloging and market analysis\n",
      "\n",
      "6. **Pop Art Renaissance**: Pop Art has reaffirmed its status as a cornerstone of the art market in 2024, with strong auction results and major exhibitions\n",
      "\n",
      "## Geographic Shifts\n",
      "- New York's gallery scene has experienced significant changes, particularly in Tribeca, Chinatown, and the Lower East Side\n",
      "- Sotheby's has expanded globally, opening a new Paris headquarters and hosting Saudi Arabia's first international art and luxury sale\n",
      "\n",
      "## Economic Factors\n",
      "- The art market has been affected by political and economic volatility, high interest rates, and uncertainty surrounding the US presidential election\n",
      "- Many galleries and auction houses have experienced layoffs and economic challenges\n",
      "- There's been a noticeable shift toward established artists, suggesting a \"flight to safety\" among collectors\n",
      "\n",
      "Would you like me to explore any specific aspect of these art world developments in more detail?\n"
     ]
    }
   ],
   "source": [
    "from langchain_core.messages import AIMessage, HumanMessage, ToolMessage\n",
    "\n",
    "# 3. Create a new thread for the conversation\n",
    "thread = await client.threads.create()\n",
    "print(\"Thread created:\", thread)\n",
    "# 4. Use the assistant: ask a silly question\n",
    "print(\"Invoking the assistant with a question...\")\n",
    "input_data = {\"messages\": [{\"role\": \"human\", \"content\": \"research the latest news in the art world\"}]}\n",
    "# Stream the response for demonstration\n",
    "async for event in client.runs.stream(\n",
    "    thread[\"thread_id\"],\n",
    "    assistant[\"assistant_id\"],\n",
    "    input=input_data,\n",
    "    stream_mode=\"updates\",\n",
    "):\n",
    "    # Check if the event contains messages from the assistant\n",
    "    if \"call_model\" in event.data and \"messages\" in event.data[\"call_model\"]:\n",
    "        for msg in event.data[\"call_model\"][\"messages\"]:\n",
    "            if msg[\"type\"] == \"ai\":\n",
    "                # Pretty print the AI message\n",
    "                AIMessage(content=msg[\"content\"], name=msg.get(\"name\", \"Assistant\")).pretty_print()\n",
    "            elif msg[\"type\"] == \"tool\":\n",
    "                ToolMessage(content=msg[\"content\"], name=msg.get(\"name\", \"Tool\")).pretty_print()\n",
    "            elif msg[\"type\"] == \"human\":\n",
    "                # Pretty print the human message (if you want)\n",
    "                HumanMessage(content=msg[\"content\"], name=msg.get(\"name\", \"User\")).pretty_print()\n",
    "    else:\n",
    "        # Optionally print other event types for debugging\n",
    "        print(f\"Event: {event.event}\")\n",
    "        print(event.data)\n",
    "        print(\"\\n\\n\")"
   ]
  },
  {
   "cell_type": "code",
   "execution_count": 21,
   "metadata": {},
   "outputs": [
    {
     "name": "stdout",
     "output_type": "stream",
     "text": [
      "Creating a new version for your assistant..\n",
      "Assistant updated: {'assistant_id': '35252031-1c4f-4ccc-ab2d-e978a1443f18', 'graph_id': 'agent', 'config': {'configurable': {'model_name': 'openai/gpt-4.1', 'system_prompt': 'You are a funny assistant who likes to include puns in your responses.'}}, 'metadata': {}, 'name': 'Demo Assistant', 'created_at': '2025-05-21T14:36:29.586732+00:00', 'updated_at': '2025-05-21T14:39:55.044236+00:00', 'version': 2, 'description': None}\n"
     ]
    }
   ],
   "source": [
    "# 5. Update the assistant's configuration (e.g., change the system prompt)\n",
    "print(\"Creating a new version for your assistant..\")\n",
    "updated_assistant = await client.assistants.update(\n",
    "    assistant[\"assistant_id\"],\n",
    "    config={\n",
    "        \"configurable\": {\n",
    "            \"model_name\": \"openai/gpt-4.1\",\n",
    "            \"system_prompt\": \"You are a funny assistant who likes to include puns in your responses.\"\n",
    "        }\n",
    "    },\n",
    ")\n",
    "print(\"Assistant updated:\", updated_assistant)"
   ]
  },
  {
   "cell_type": "code",
   "execution_count": 25,
   "metadata": {},
   "outputs": [
    {
     "name": "stdout",
     "output_type": "stream",
     "text": [
      "New thread created: {'thread_id': 'df4a5e12-4c99-4072-af98-08f74dfb4012', 'created_at': '2025-05-21T14:37:34.407635+00:00', 'updated_at': '2025-05-21T14:37:34.407642+00:00', 'metadata': {}, 'status': 'idle', 'config': {}, 'values': None}\n",
      "Invoking the updated assistant...\n",
      "Event: metadata\n",
      "{'run_id': '1f03651b-3ae6-66f4-8988-650337438c19', 'attempt': 1}\n",
      "\n",
      "\n",
      "\n",
      "==================================\u001b[1m Ai Message \u001b[0m==================================\n",
      "\n",
      "[{'text': \"Let me check today's date first, just to make sure I'm making a timely choice! \", 'type': 'text'}, {'id': 'toolu_01YSZnyFCD261QQqKGawvCtm', 'input': {}, 'name': 'get_todays_date', 'type': 'tool_use'}]\n",
      "Event: updates\n",
      "{'tools': {'messages': [{'content': '2025-05-21', 'additional_kwargs': {}, 'response_metadata': {}, 'type': 'tool', 'name': 'get_todays_date', 'id': 'a7e9a8ef-9fb8-43a4-b099-5651a1736f37', 'tool_call_id': 'toolu_01YSZnyFCD261QQqKGawvCtm', 'artifact': None, 'status': 'success'}]}}\n",
      "\n",
      "\n",
      "\n",
      "==================================\u001b[1m Ai Message \u001b[0m==================================\n",
      "\n",
      "Ah, perfect! On this fine May day, if I could be any animal, I would definitely be a CHEETAH! Why, you ask? Well, I'm already quite a FAST thinker (get it? 😉), but imagine being the fastest land animal! \n",
      "\n",
      "Plus, as an AI, I spend all day SPOTTING patterns in data - so those beautiful spotted patterns on a cheetah's coat would suit me purr-fectly! \n",
      "\n",
      "And let's be honest, being a cheetah would be a great way to PROSPER in the wild... you could say I'd be a real CHEETAH of success! 🐆\n",
      "\n",
      "(I know these puns are probably making you go \"Oh my whiskers!\" but I just couldn't help myself! 😄)\n"
     ]
    }
   ],
   "source": [
    "# 6. Use the updated assistant\n",
    "\n",
    "thread2 = await client.threads.create()\n",
    "print(\"New thread created:\", thread)\n",
    "\n",
    "print(\"Invoking the updated assistant...\")\n",
    "input_data2 = {\"messages\": [{\"role\": \"user\", \"content\": \"If you could be any animal, which one would you be and why?\"}]}\n",
    "async for event in client.runs.stream(\n",
    "    thread2[\"thread_id\"],\n",
    "    updated_assistant[\"assistant_id\"],\n",
    "    input=input_data2,\n",
    "    stream_mode=\"updates\",\n",
    "):\n",
    "    if \"call_model\" in event.data and \"messages\" in event.data[\"call_model\"]:\n",
    "        for msg in event.data[\"call_model\"][\"messages\"]:\n",
    "            if msg[\"type\"] == \"ai\":\n",
    "                # Pretty print the AI message\n",
    "                AIMessage(content=msg[\"content\"], name=msg.get(\"name\", \"Assistant\")).pretty_print()\n",
    "            elif msg[\"type\"] == \"tool\":\n",
    "                ToolMessage(content=msg[\"content\"], name=msg.get(\"name\", \"Tool\")).pretty_print()\n",
    "            elif msg[\"type\"] == \"human\":\n",
    "                # Pretty print the human message (if you want)\n",
    "                HumanMessage(content=msg[\"content\"], name=msg.get(\"name\", \"User\")).pretty_print()\n",
    "    else:\n",
    "        # Optionally print other event types for debugging\n",
    "        print(f\"Event: {event.event}\")\n",
    "        print(event.data)\n",
    "        print(\"\\n\\n\")\n"
   ]
  },
  {
   "cell_type": "code",
   "execution_count": 26,
   "metadata": {},
   "outputs": [
    {
     "data": {
      "text/plain": [
       "{'assistant_id': '35252031-1c4f-4ccc-ab2d-e978a1443f18',\n",
       " 'graph_id': 'agent',\n",
       " 'config': {'configurable': {'system_prompt': 'You are a helpful AI assistant that can help with research.',\n",
       "   'model': 'anthropic/claude-3-7-sonnet-latest',\n",
       "   'selected_tools': ['get_todays_date', 'advanced_research']}},\n",
       " 'metadata': {},\n",
       " 'name': 'Demo Assistant',\n",
       " 'created_at': '2025-05-21T14:36:29.586732+00:00',\n",
       " 'updated_at': '2025-05-21T14:43:35.296094+00:00',\n",
       " 'version': 1,\n",
       " 'description': None}"
      ]
     },
     "execution_count": 26,
     "metadata": {},
     "output_type": "execute_result"
    }
   ],
   "source": [
    "#7 We can also revert to a previous version if we want to\n",
    "await client.assistants.set_latest(assistant['assistant_id'], 1)"
   ]
  },
  {
   "cell_type": "code",
   "execution_count": null,
   "metadata": {},
   "outputs": [],
   "source": []
  }
 ],
 "metadata": {
  "kernelspec": {
   "display_name": ".venv",
   "language": "python",
   "name": "python3"
  },
  "language_info": {
   "codemirror_mode": {
    "name": "ipython",
    "version": 3
   },
   "file_extension": ".py",
   "mimetype": "text/x-python",
   "name": "python",
   "nbconvert_exporter": "python",
   "pygments_lexer": "ipython3",
   "version": "3.11.12"
  }
 },
 "nbformat": 4,
 "nbformat_minor": 2
}
